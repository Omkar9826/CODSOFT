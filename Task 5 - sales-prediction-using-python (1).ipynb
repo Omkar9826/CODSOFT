{
 "cells": [
  {
   "cell_type": "markdown",
   "metadata": {
    "id": "ueJy8pha-IkP"
   },
   "source": [
    "# SALES PREDICTION USING PYTHON"
   ]
  },
  {
   "cell_type": "markdown",
   "metadata": {
    "id": "YhrHLoyF-NRp"
   },
   "source": [
    "Sales prediction with Python enables businesses to forecast future sales based on factors like advertising expenses, customer segmentation, and marketing platforms. Leveraging machine learning techniques, companies can analyze historical data, build predictive models, and make data-driven decisions to optimize marketing strategies, allocate resources efficiently, and maximize revenue potential. By continuously updating the models with new data, businesses can adapt to market dynamics and achieve better performance in a competitive environment."
   ]
  },
  {
   "cell_type": "code",
   "execution_count": null,
   "metadata": {
    "id": "l40YbOAh-nCd"
   },
   "outputs": [],
   "source": [
    "# Import necessary libraries\n",
    "\n",
    "import numpy as np\n",
    "import pandas as pd\n",
    "import seaborn as sns\n",
    "import matplotlib.pyplot as plt\n",
    "import os\n",
    "import statsmodels.formula.api as sm\n",
    "from sklearn.linear_model import LinearRegression, Ridge, Lasso, ElasticNet\n",
    "from sklearn.metrics import mean_squared_error, r2_score\n",
    "from sklearn.model_selection import train_test_split\n",
    "from sklearn.model_selection import cross_val_score\n",
    "from sklearn.model_selection import GridSearchCV\n",
    "import warnings"
   ]
  },
  {
   "cell_type": "code",
   "execution_count": null,
   "metadata": {
    "id": "mTJ268a3-tlT",
    "outputId": "a9982c38-0cce-4b35-b956-723f2614c34a"
   },
   "outputs": [],
   "source": [
    "warnings.simplefilter(action='ignore', category=FutureWarning)\n",
    "os.getcwd()\n"
   ]
  },
  {
   "cell_type": "code",
   "execution_count": null,
   "metadata": {
    "id": "EkXHvdh--3Uq"
   },
   "outputs": [],
   "source": [
    "# Load dataset\n",
    "\n",
    "df = pd.read_csv(\"/kaggle/input/advertisingcsv/Advertising.csv\")"
   ]
  },
  {
   "cell_type": "markdown",
   "metadata": {
    "id": "ncnK7Izv_PCv"
   },
   "source": [
    "### Exploratory Data Analysis"
   ]
  },
  {
   "cell_type": "code",
   "execution_count": null,
   "metadata": {
    "id": "MiodbIp1_Jwa",
    "outputId": "8f2ebb89-487d-4611-a01b-8ee34b3337fc"
   },
   "outputs": [],
   "source": [
    "# View the first few rows of the dataset\n",
    "\n",
    "df.head()"
   ]
  },
  {
   "cell_type": "code",
   "execution_count": null,
   "metadata": {
    "id": "PmHnFeTa_UWq",
    "outputId": "2553f40e-9d6c-4850-c3e1-39d0f7478514"
   },
   "outputs": [],
   "source": [
    "# Get the column names of the dataset\n",
    "\n",
    "df.columns"
   ]
  },
  {
   "cell_type": "code",
   "execution_count": null,
   "metadata": {
    "id": "WUF7GrskAM4b"
   },
   "outputs": [],
   "source": [
    "# To rename the column 'Unnamed: 0' to 'Index'\n",
    "df.rename(columns={'Unnamed: 0': 'Index'}, inplace=True)\n"
   ]
  },
  {
   "cell_type": "code",
   "execution_count": null,
   "metadata": {
    "id": "ZC4CmPemAVlq",
    "outputId": "9a835c39-b9bb-4deb-8eb3-8ad093907a65"
   },
   "outputs": [],
   "source": [
    "df"
   ]
  },
  {
   "cell_type": "code",
   "execution_count": null,
   "metadata": {
    "id": "UMr8F_bl_ZSy",
    "outputId": "10eadebe-d7b6-40f9-98ef-d776d1cfcacc"
   },
   "outputs": [],
   "source": [
    "# Get the shape of the dataset (rows, columns)\n",
    "\n",
    "df.shape"
   ]
  },
  {
   "cell_type": "code",
   "execution_count": null,
   "metadata": {
    "id": "kMbt6KxJ_zxX",
    "outputId": "e0c64889-00e0-40e7-c3ca-6b29b1fb9f2f"
   },
   "outputs": [],
   "source": [
    "# Check information about the dataset, data types, and missing values\n",
    "\n",
    "df.info()"
   ]
  },
  {
   "cell_type": "code",
   "execution_count": null,
   "metadata": {
    "id": "gvzvLdWcBVZ3",
    "outputId": "2e5a348c-a697-4398-beeb-8897cee26cb4"
   },
   "outputs": [],
   "source": [
    "# Get statistical summary of the numerical columns\n",
    "\n",
    "df.describe().T"
   ]
  },
  {
   "cell_type": "code",
   "execution_count": null,
   "metadata": {
    "id": "hk_1A_4nBxnH",
    "outputId": "f398401d-383c-49d2-8197-5ba1d3c3397c"
   },
   "outputs": [],
   "source": [
    "# Check for missing values in the dataset\n",
    "\n",
    "df.isnull().values.any()\n",
    "df.isnull().sum()"
   ]
  },
  {
   "cell_type": "markdown",
   "metadata": {
    "id": "eiIRk_EXB7Pq"
   },
   "source": [
    "### Data Visualization"
   ]
  },
  {
   "cell_type": "code",
   "execution_count": null,
   "metadata": {
    "id": "WLKWLtvdByxK",
    "outputId": "167d2a7d-884e-4738-b80f-c5ae6bd69dfb"
   },
   "outputs": [],
   "source": [
    "# Scatter plots to check the linearity assumption between each independent variable (TV, Radio, Newspaper) and the dependent variable (Sales)\n",
    "\n",
    "sns.pairplot(df, x_vars=[\"TV\", \"Radio\", \"Newspaper\"], y_vars=\"Sales\", kind=\"reg\")\n"
   ]
  },
  {
   "cell_type": "code",
   "execution_count": null,
   "metadata": {
    "id": "95UQsbTACAky",
    "outputId": "06131caa-2c35-4375-aaff-594db7c471d5"
   },
   "outputs": [],
   "source": [
    "# Histograms to check the normality assumption of the dependent variable (Sales)\n",
    "\n",
    "df.hist(bins=20)"
   ]
  },
  {
   "cell_type": "code",
   "execution_count": null,
   "metadata": {
    "id": "17YU0Y5CC6og",
    "outputId": "f34c0560-dc3c-4225-8dd4-6311b82275b6"
   },
   "outputs": [],
   "source": [
    "# Linear regression plots to visualize the relationship between each independent variable and the dependent variable\n",
    "\n",
    "sns.lmplot(x='TV', y='Sales', data=df)\n",
    "sns.lmplot(x='Radio', y='Sales', data=df)\n",
    "sns.lmplot(x='Newspaper',y= 'Sales', data=df)"
   ]
  },
  {
   "cell_type": "code",
   "execution_count": null,
   "metadata": {
    "id": "grkK2FMhC7Gr",
    "outputId": "560eda23-ad4a-479c-bf8a-5996f9848600"
   },
   "outputs": [],
   "source": [
    "# Correlation Heatmap to check for multicollinearity among independent/dependent variables\n",
    "\n",
    "corrmat = df.corr()\n",
    "f, ax = plt.subplots(figsize=(12, 9))\n",
    "sns.heatmap(corrmat, vmin=0, vmax=1, square=True, cmap=\"YlGnBu\", ax=ax)\n",
    "plt.show()"
   ]
  },
  {
   "cell_type": "code",
   "execution_count": null,
   "metadata": {
    "id": "hsKF8w1VEH0b"
   },
   "outputs": [],
   "source": [
    "# Model Preparation\n",
    "\n",
    "X = df.drop('Sales', axis=1)\n",
    "y = df[[\"Sales\"]]\n",
    "\n",
    "X_train, X_test, y_train, y_test = train_test_split(X, y, test_size=0.20, random_state=46)\n"
   ]
  },
  {
   "cell_type": "code",
   "execution_count": null,
   "metadata": {
    "id": "AORM6iX4ELxS"
   },
   "outputs": [],
   "source": [
    "# Linear Regression Model\n",
    "\n",
    "lin_model = sm.ols(formula=\"Sales ~ TV + Radio + Newspaper\", data=df).fit()\n"
   ]
  },
  {
   "cell_type": "code",
   "execution_count": null,
   "metadata": {
    "id": "UK6IENGIEUX7",
    "outputId": "220ecb16-a3f0-437b-833f-649cdb4049e5"
   },
   "outputs": [],
   "source": [
    "# Print the coefficients of the linear model\n",
    "\n",
    "print(lin_model.params, \"\\n\")"
   ]
  },
  {
   "cell_type": "code",
   "execution_count": null,
   "metadata": {
    "id": "lj4d530ZEYRy",
    "outputId": "984a85aa-ab71-43e8-ae8a-a20054d8882b"
   },
   "outputs": [],
   "source": [
    "# Print the summary of the linear regression model\n",
    "\n",
    "print(lin_model.summary())\n"
   ]
  },
  {
   "cell_type": "code",
   "execution_count": null,
   "metadata": {
    "id": "USsAHIwdEcU6"
   },
   "outputs": [],
   "source": [
    "# Evaluate the model\n",
    "\n",
    "results = []\n",
    "names = []"
   ]
  },
  {
   "cell_type": "code",
   "execution_count": null,
   "metadata": {
    "id": "Y20bPplREhWK"
   },
   "outputs": [],
   "source": [
    "# Define a list of models to evaluate\n",
    "\n",
    "models = [('LinearRegression', LinearRegression())]"
   ]
  },
  {
   "cell_type": "code",
   "execution_count": null,
   "metadata": {
    "id": "f6Ko-t1GEseP",
    "outputId": "65ee08ec-48b1-4438-c3e7-7151f4b15099"
   },
   "outputs": [],
   "source": [
    "# Loop through each model, fit it to the data, and calculate the RMSE\n",
    "\n",
    "for name, model in models:\n",
    "    model.fit(X_train, y_train)\n",
    "    y_pred = model.predict(X_test)\n",
    "    result = np.sqrt(mean_squared_error(y_test, y_pred))\n",
    "    results.append(result)\n",
    "    names.append(name)\n",
    "    msg = \"%s: %f\" % (name, result)\n",
    "    print(msg)"
   ]
  },
  {
   "cell_type": "code",
   "execution_count": null,
   "metadata": {
    "id": "CfKH3KQIEyla",
    "outputId": "71204993-e17b-46c4-c0ed-e9604504368f"
   },
   "outputs": [],
   "source": [
    "# Make predictions on new data\n",
    "\n",
    "new_data = pd.DataFrame({'TV': [100], 'Radio': [50], 'Newspaper': [25]})\n",
    "predicted_sales = lin_model.predict(new_data)\n",
    "print(\"Predicted Sales:\", predicted_sales)"
   ]
  },
  {
   "cell_type": "code",
   "execution_count": null,
   "metadata": {
    "id": "N-W5a1hlGdPg",
    "outputId": "fffdfcae-ec90-477d-e2b9-c85951f46246"
   },
   "outputs": [],
   "source": [
    "# Make predictions on new data\n",
    "\n",
    "new_data = pd.DataFrame({'TV': [25], 'Radio': [63], 'Newspaper': [80]})\n",
    "predicted_sales = lin_model.predict(new_data)\n",
    "print(\"Predicted Sales:\", predicted_sales)"
   ]
  }
 ],
 "metadata": {
  "kernelspec": {
   "display_name": "Python 3 (ipykernel)",
   "language": "python",
   "name": "python3"
  },
  "language_info": {
   "codemirror_mode": {
    "name": "ipython",
    "version": 3
   },
   "file_extension": ".py",
   "mimetype": "text/x-python",
   "name": "python",
   "nbconvert_exporter": "python",
   "pygments_lexer": "ipython3",
   "version": "3.9.13"
  }
 },
 "nbformat": 4,
 "nbformat_minor": 4
}
